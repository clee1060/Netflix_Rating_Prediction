{
 "cells": [
  {
   "cell_type": "markdown",
   "id": "767bef8f",
   "metadata": {},
   "source": [
    "# K-Nearest Neighbors\n",
    "In this notebook, we are running the K-Nearest Neighbors algorithm on the dataset."
   ]
  },
  {
   "cell_type": "code",
   "execution_count": 1,
   "id": "d00dbb0c",
   "metadata": {},
   "outputs": [],
   "source": [
    "import pandas as pd\n",
    "import numpy as np\n",
    "import matplotlib\n",
    "import os"
   ]
  },
  {
   "cell_type": "markdown",
   "id": "0d19d2aa",
   "metadata": {},
   "source": [
    "### Import data\n",
    "Import the small dataset that was created in the Data_Preparation.ipynb file."
   ]
  },
  {
   "cell_type": "code",
   "execution_count": 2,
   "id": "c043f24c",
   "metadata": {},
   "outputs": [],
   "source": [
    "df = pd.read_csv('data_folder/small_data.csv', sep=',', \n",
    "                       names=['movie', 'user','rating','date'])\n",
    "df.date = pd.to_datetime(df.date)\n",
    "df.sort_values(by='date', inplace=True)"
   ]
  },
  {
   "cell_type": "markdown",
   "id": "decfe2b1",
   "metadata": {},
   "source": [
    "### Clean data\n",
    "Changing the date into separate day, month and year columns"
   ]
  },
  {
   "cell_type": "code",
   "execution_count": 3,
   "id": "8936587e",
   "metadata": {},
   "outputs": [
    {
     "name": "stdout",
     "output_type": "stream",
     "text": [
      "Starting...\n",
      "Finishing Year...\n",
      "Finishing Month...\n",
      "Done\n"
     ]
    }
   ],
   "source": [
    "print(\"Starting...\")\n",
    "df['year'] = pd.to_datetime(df['date']).dt.year\n",
    "print(\"Finishing Year...\")\n",
    "df['month'] = pd.to_datetime(df['date']).dt.month\n",
    "print(\"Finishing Month...\")\n",
    "df['day'] = pd.to_datetime(df['date']).dt.month\n",
    "print(\"Done\")"
   ]
  },
  {
   "cell_type": "code",
   "execution_count": 4,
   "id": "dba7d616",
   "metadata": {},
   "outputs": [],
   "source": [
    "df = df.drop(columns=[\"date\"])"
   ]
  },
  {
   "cell_type": "code",
   "execution_count": 5,
   "id": "6e8fcf69",
   "metadata": {},
   "outputs": [],
   "source": [
    "df_small = df.sample(100000)"
   ]
  },
  {
   "cell_type": "code",
   "execution_count": 6,
   "id": "e9623cf7",
   "metadata": {},
   "outputs": [],
   "source": [
    "y = df_small['rating']\n",
    "X = df_small.drop(columns=['rating'])"
   ]
  },
  {
   "cell_type": "code",
   "execution_count": 7,
   "id": "b490a2df",
   "metadata": {},
   "outputs": [],
   "source": [
    "from sklearn.model_selection import train_test_split\n",
    "X_train, X_test, y_train, y_test = train_test_split(X, y, test_size=0.20)"
   ]
  },
  {
   "cell_type": "markdown",
   "id": "ea740813",
   "metadata": {},
   "source": [
    "### Fit Model\n",
    "Scale the data and then fit the KNN model on the data, display results"
   ]
  },
  {
   "cell_type": "code",
   "execution_count": 8,
   "id": "98f5af7f",
   "metadata": {},
   "outputs": [],
   "source": [
    "from sklearn.preprocessing import StandardScaler\n",
    "scaler = StandardScaler()\n",
    "scaler.fit(X_train)\n",
    "\n",
    "X_train = scaler.transform(X_train)\n",
    "X_test = scaler.transform(X_test)"
   ]
  },
  {
   "cell_type": "code",
   "execution_count": 10,
   "id": "3c0a0161",
   "metadata": {},
   "outputs": [],
   "source": [
    "from sklearn.metrics import mean_squared_error \n",
    "from sklearn.neighbors import KNeighborsClassifier\n",
    "import math\n",
    "\n",
    "error = []\n",
    "\n",
    "for i in range(1, 40):\n",
    "    knn = KNeighborsClassifier(n_neighbors=i)\n",
    "    knn.fit(X_train, y_train)\n",
    "    pred_i = knn.predict(X_test)\n",
    "    error.append(math.sqrt(mean_squared_error(y_test, pred_i)))"
   ]
  },
  {
   "cell_type": "code",
   "execution_count": 11,
   "id": "85ff3f48",
   "metadata": {},
   "outputs": [
    {
     "data": {
      "text/plain": [
       "Text(0, 0.5, 'RMSE')"
      ]
     },
     "execution_count": 11,
     "metadata": {},
     "output_type": "execute_result"
    },
    {
     "data": {
      "image/png": "[encoded data removed]",
      "text/plain": [
       "<Figure size 864x432 with 1 Axes>"
      ]
     },
     "metadata": {
      "needs_background": "light"
     },
     "output_type": "display_data"
    }
   ],
   "source": [
    "import matplotlib.pyplot as plt\n",
    "\n",
    "plt.figure(figsize=(12, 6))\n",
    "plt.plot(range(1, 40), error, color='red', linestyle='dashed', marker='o',\n",
    "         markerfacecolor='blue', markersize=10)\n",
    "plt.title('Error Rate K Value')\n",
    "plt.xlabel('K Value')\n",
    "plt.ylabel('RMSE') "
   ]
  },
  {
   "cell_type": "code",
   "execution_count": 12,
   "id": "025798b0",
   "metadata": {},
   "outputs": [],
   "source": [
    "plt.show()"
   ]
  },
  {
   "cell_type": "code",
   "execution_count": null,
   "id": "32e8e721",
   "metadata": {},
   "outputs": [],
   "source": []
  }
 ],
 "metadata": {
  "kernelspec": {
   "display_name": "Python 3",
   "language": "python",
   "name": "python3"
  },
  "language_info": {
   "codemirror_mode": {
    "name": "ipython",
    "version": 3
   },
   "file_extension": ".py",
   "mimetype": "text/x-python",
   "name": "python",
   "nbconvert_exporter": "python",
   "pygments_lexer": "ipython3",
   "version": "3.8.8"
  }
 },
 "nbformat": 4,
 "nbformat_minor": 5
}
