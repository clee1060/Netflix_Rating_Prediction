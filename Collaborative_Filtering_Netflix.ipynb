{
 "cells": [
  {
   "cell_type": "markdown",
   "id": "a9b02383",
   "metadata": {},
   "source": [
    "# Collaborative Filtering Netflix\n",
    "Notebook that contains the code for collaborative filtering for the Netflix dataset."
   ]
  },
  {
   "cell_type": "code",
   "execution_count": 1,
   "id": "c5f34060",
   "metadata": {},
   "outputs": [
    {
     "name": "stdout",
     "output_type": "stream",
     "text": [
      "Requirement already satisfied: xgboost in c:\\users\\clee1\\anaconda3\\lib\\site-packages (1.5.1)\n",
      "Requirement already satisfied: scipy in c:\\users\\clee1\\anaconda3\\lib\\site-packages (from xgboost) (1.6.2)\n",
      "Requirement already satisfied: numpy in c:\\users\\clee1\\anaconda3\\lib\\site-packages (from xgboost) (1.20.1)\n"
     ]
    }
   ],
   "source": [
    "import sys\n",
    "!{sys.executable} -m pip install xgboost"
   ]
  },
  {
   "cell_type": "code",
   "execution_count": 2,
   "id": "f2fb7185",
   "metadata": {},
   "outputs": [],
   "source": [
    "from datetime import datetime\n",
    "import pandas as pd\n",
    "import numpy as np\n",
    "import seaborn as sns\n",
    "import os\n",
    "import random\n",
    "import matplotlib\n",
    "import matplotlib.pyplot as plt\n",
    "from scipy import sparse\n",
    "from sklearn.metrics.pairwise import cosine_similarity\n",
    "from sklearn.metrics import mean_squared_error\n",
    "import xgboost as xgb"
   ]
  },
  {
   "cell_type": "markdown",
   "id": "56479ea0",
   "metadata": {},
   "source": [
    "### Import the Data"
   ]
  },
  {
   "cell_type": "code",
   "execution_count": 3,
   "id": "d79da26f",
   "metadata": {},
   "outputs": [],
   "source": [
    "netflix_rating_df = pd.read_csv('data_folder/small_data.csv', sep=',', names=['movie_id', 'user_id','rating','date'])"
   ]
  },
  {
   "cell_type": "code",
   "execution_count": 4,
   "id": "1465aedf",
   "metadata": {},
   "outputs": [],
   "source": [
    "split_value = int(len(netflix_rating_df) * 0.80)\n",
    "train = netflix_rating_df[:split_value]\n",
    "test = netflix_rating_df[split_value:]"
   ]
  },
  {
   "cell_type": "markdown",
   "id": "3d41c9ed",
   "metadata": {},
   "source": [
    "### Basic EDA on Dataset"
   ]
  },
  {
   "cell_type": "code",
   "execution_count": 5,
   "id": "e10a3761",
   "metadata": {},
   "outputs": [
    {
     "name": "stderr",
     "output_type": "stream",
     "text": [
      "<ipython-input-5-2fbdccad9b81>:3: UserWarning: FixedFormatter should only be used together with FixedLocator\n",
      "  ax.set_yticklabels([num for num in ax.get_yticks()])\n"
     ]
    },
    {
     "data": {
      "image/png": "[encoded data removed]",
      "text/plain": [
       "<Figure size 576x432 with 1 Axes>"
      ]
     },
     "metadata": {
      "needs_background": "light"
     },
     "output_type": "display_data"
    }
   ],
   "source": [
    "plt.figure(figsize = (8, 6))\n",
    "ax = sns.countplot(x=\"rating\", data=train)\n",
    "ax.set_yticklabels([num for num in ax.get_yticks()])\n",
    "plt.tick_params(labelsize = 15)\n",
    "plt.title(\"Count of the Ratings in the training data\")\n",
    "plt.xlabel(\"Ratings\")\n",
    "plt.ylabel(\"Num Ratings\")\n",
    "plt.show()"
   ]
  },
  {
   "cell_type": "markdown",
   "id": "fda66594",
   "metadata": {},
   "source": [
    "### Create the Sparse Matrix\n",
    "Create the sparse matrix for the training and testing data"
   ]
  },
  {
   "cell_type": "code",
   "execution_count": 6,
   "id": "187ce93e",
   "metadata": {},
   "outputs": [],
   "source": [
    "def sparse_matrix(df):\n",
    "    return sparse.csr_matrix((df.rating, (df.user_id, df.movie_id)))"
   ]
  },
  {
   "cell_type": "code",
   "execution_count": 7,
   "id": "4280b5f0",
   "metadata": {},
   "outputs": [],
   "source": [
    "train_sparse = sparse_matrix(train)\n",
    "test_sparse = sparse_matrix(test)"
   ]
  },
  {
   "cell_type": "markdown",
   "id": "a314dd67",
   "metadata": {},
   "source": [
    "### Get the Average Ratings for users and movies"
   ]
  },
  {
   "cell_type": "code",
   "execution_count": 8,
   "id": "1e272c87",
   "metadata": {},
   "outputs": [],
   "source": [
    "def avg_rating(sparse_matrix, is_user=True):\n",
    "    ax = 1 if is_user else 0\n",
    "    sum_of_ratings = sparse_matrix.sum(axis = ax).A1  \n",
    "    no_of_ratings = (sparse_matrix != 0).sum(axis = ax).A1 \n",
    "    rows, cols = sparse_matrix.shape\n",
    "    average_ratings = {i: sum_of_ratings[i]/no_of_ratings[i] for i in range(rows if is_user else cols) if no_of_ratings[i] != 0}\n",
    "    return average_ratings"
   ]
  },
  {
   "cell_type": "code",
   "execution_count": 9,
   "id": "0e5a7b24",
   "metadata": {},
   "outputs": [],
   "source": [
    "average_rating_user = avg_rating(train_sparse)\n",
    "avg_rating_movie = avg_rating(train_sparse, False)"
   ]
  },
  {
   "cell_type": "code",
   "execution_count": 10,
   "id": "3e7d53cd",
   "metadata": {},
   "outputs": [],
   "source": [
    "movie_titles_df = pd.read_csv(\"data_folder/movie_titles.csv\", sep = \",\", header = None, names=['movie_id', 'year_of_release', 'movie_title'], index_col = \"movie_id\", encoding = \"iso8859_2\")"
   ]
  },
  {
   "cell_type": "code",
   "execution_count": 11,
   "id": "9a7be13d",
   "metadata": {},
   "outputs": [],
   "source": [
    "def sparse_sample_matrix(sparseMatrix, num_users, num_movies):\n",
    "    users, movies, ratings = sparse.find(sparseMatrix)\n",
    "    unique_users = np.unique(users)\n",
    "    unique_movies = np.unique(movies)\n",
    "    \n",
    "    userS = np.random.choice(unique_users, num_users, replace = False)\n",
    "    movieS = np.random.choice(unique_movies, num_movies, replace = False)\n",
    "    mask = np.logical_and(np.isin(users, userS), np.isin(movies, movieS))\n",
    "    \n",
    "    return sparse.csr_matrix((ratings[mask], (users[mask], movies[mask])), shape = (max(userS)+1, max(movieS)+1))"
   ]
  },
  {
   "cell_type": "code",
   "execution_count": 12,
   "id": "120b6aba",
   "metadata": {},
   "outputs": [],
   "source": [
    "train_sparse_sample = sparse_sample_matrix(train_sparse, 400, 40)\n",
    "test_sparse_sample = sparse_sample_matrix(test_sparse, 200, 20)"
   ]
  },
  {
   "cell_type": "markdown",
   "id": "2452d8f9",
   "metadata": {},
   "source": [
    "### Engineer the new Similarity Features"
   ]
  },
  {
   "cell_type": "code",
   "execution_count": 15,
   "id": "3e133eea",
   "metadata": {},
   "outputs": [],
   "source": [
    "def similarity_features(ss_matrix):\n",
    "    global_avg_rating = avg_rating(ss_matrix, False)\n",
    "    global_avg_users = avg_rating(ss_matrix, True)\n",
    "    global_avg_movies = avg_rating(ss_matrix, False)\n",
    "    \n",
    "    users, movies, ratings = sparse.find(ss_matrix)\n",
    "    new_features_csv_file = open(\"data_folder/new_features.csv\", mode = \"w\")\n",
    "    \n",
    "    for user, movie, rating in zip(users, movies, ratings):\n",
    "        sim = []\n",
    "        sim.append(user)\n",
    "        sim.append(movie)\n",
    "        sim.append(ss_matrix.sum()/ss_matrix.count_nonzero())\n",
    "        \n",
    "        u_ratings = ss_matrix[np.argsort(-cosine_similarity(ss_matrix[user], ss_matrix).ravel())[1:], movie].toarray().ravel()\n",
    "        top_user = list(u_ratings[u_ratings != 0][:5])\n",
    "        top_user.extend([global_avg_rating[movie]] * (5-len(u_ratings)))\n",
    "        sim.extend(top_user)\n",
    "        \n",
    "        m_ratings = ss_matrix[user, np.argsort(-cosine_similarity(np.transpose(ss_matrix[:,movie]), np.transpose(ss_matrix)).ravel())[1:]].toarray().ravel()\n",
    "        top_movie = list(m_ratings[m_ratings != 0][:5])\n",
    "        top_movie.extend([global_avg_users[user]] * (5-len(top_movie)))\n",
    "        sim.extend(top_movie)\n",
    "        \n",
    "        sim.append(global_avg_users[user])\n",
    "        sim.append(global_avg_movies[movie])\n",
    "        sim.append(rating)\n",
    "        \n",
    "        new_features_csv_file.write(\",\".join(map(str, sim)))\n",
    "        new_features_csv_file.write(\"\\n\")\n",
    "        \n",
    "    new_features_csv_file.close()\n",
    "    new_features_df = pd.read_csv('data_folder/new_features.csv', names = [\"user_id\", \"movie_id\", \"global_average\",\n",
    "                                                               \"user1\", \"user2\", \"user3\", \"user4\", \"user5\", \n",
    "                                                               \"movie1\", \"movie2\", \"movie3\", \"movie4\", \n",
    "                                                               \"movie5\", \"avg_user\", \"avg_movie\", \"rating\"])\n",
    "    return new_features_df"
   ]
  },
  {
   "cell_type": "code",
   "execution_count": 16,
   "id": "9b09f56d",
   "metadata": {},
   "outputs": [],
   "source": [
    "train_features = similarity_features(train_sparse_sample)\n",
    "train_features.replace([np.inf, -np.inf], np.nan, inplace=True)\n",
    "train_features.dropna(inplace=True)"
   ]
  },
  {
   "cell_type": "code",
   "execution_count": 17,
   "id": "73016a47",
   "metadata": {},
   "outputs": [],
   "source": [
    "test_features = similarity_features(test_sparse_sample)\n",
    "test_features.replace([np.inf, -np.inf], np.nan, inplace=True)\n",
    "test_features.dropna(inplace=True)"
   ]
  },
  {
   "cell_type": "code",
   "execution_count": 18,
   "id": "90b2bf73",
   "metadata": {},
   "outputs": [],
   "source": [
    "train_features = train_features.reset_index()\n",
    "test_features = test_features.reset_index()"
   ]
  },
  {
   "cell_type": "code",
   "execution_count": 19,
   "id": "73218edb",
   "metadata": {},
   "outputs": [],
   "source": [
    "x_train = train_features.drop([\"user_id\", \"movie_id\", \"rating\"], axis = 1)\n",
    "x_test = test_features.drop([\"user_id\", \"movie_id\", \"rating\"], axis = 1)\n",
    "y_train = train_features[\"rating\"]\n",
    "y_test = test_features[\"rating\"]"
   ]
  },
  {
   "cell_type": "code",
   "execution_count": 20,
   "id": "e8f9578b",
   "metadata": {},
   "outputs": [
    {
     "name": "stdout",
     "output_type": "stream",
     "text": [
      "[01:38:29] WARNING: C:/Users/Administrator/workspace/xgboost-win64_release_1.5.1/src/learner.cc:576: \n",
      "Parameters: { \"silent\" } might not be used.\n",
      "\n",
      "  This could be a false alarm, with some parameters getting used by language bindings but\n",
      "  then being mistakenly passed down to XGBoost core, or some parameter actually being used\n",
      "  but getting flagged wrongly here. Please open an issue if you find any such cases.\n",
      "\n",
      "\n"
     ]
    },
    {
     "data": {
      "text/plain": [
       "XGBRegressor(base_score=0.5, booster='gbtree', colsample_bylevel=1,\n",
       "             colsample_bynode=1, colsample_bytree=1, enable_categorical=False,\n",
       "             gamma=0, gpu_id=-1, importance_type=None,\n",
       "             interaction_constraints='', learning_rate=0.300000012,\n",
       "             max_delta_step=0, max_depth=6, min_child_weight=1, missing=nan,\n",
       "             monotone_constraints='()', n_estimators=100, n_jobs=10,\n",
       "             num_parallel_tree=1, predictor='auto', random_state=0, reg_alpha=0,\n",
       "             reg_lambda=1, scale_pos_weight=1, silent=False, subsample=1,\n",
       "             tree_method='exact', validate_parameters=1, verbosity=None)"
      ]
     },
     "execution_count": 20,
     "metadata": {},
     "output_type": "execute_result"
    }
   ],
   "source": [
    "clf = xgb.XGBRegressor(n_estimators = 100, silent = False, n_jobs  = 10)\n",
    "clf.fit(x_train, y_train)"
   ]
  },
  {
   "cell_type": "code",
   "execution_count": 21,
   "id": "1b0fc56d",
   "metadata": {},
   "outputs": [],
   "source": [
    "y_pred_test = clf.predict(x_test)"
   ]
  },
  {
   "cell_type": "code",
   "execution_count": 22,
   "id": "451bd994",
   "metadata": {},
   "outputs": [
    {
     "name": "stdout",
     "output_type": "stream",
     "text": [
      "RMSE: 0.6245797912930791\n"
     ]
    }
   ],
   "source": [
    "print(\"RMSE:\", np.sqrt(mean_squared_error(y_test, y_pred_test)))"
   ]
  },
  {
   "cell_type": "code",
   "execution_count": null,
   "id": "1935edba",
   "metadata": {},
   "outputs": [],
   "source": []
  }
 ],
 "metadata": {
  "kernelspec": {
   "display_name": "Python 3",
   "language": "python",
   "name": "python3"
  },
  "language_info": {
   "codemirror_mode": {
    "name": "ipython",
    "version": 3
   },
   "file_extension": ".py",
   "mimetype": "text/x-python",
   "name": "python",
   "nbconvert_exporter": "python",
   "pygments_lexer": "ipython3",
   "version": "3.8.8"
  }
 },
 "nbformat": 4,
 "nbformat_minor": 5
}
