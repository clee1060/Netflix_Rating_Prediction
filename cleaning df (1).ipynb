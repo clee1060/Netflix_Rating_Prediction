{
 "cells": [
  {
   "cell_type": "code",
   "execution_count": 1,
   "id": "35c53e25",
   "metadata": {},
   "outputs": [],
   "source": [
    "import numpy as np\n",
    "import pandas as pd\n",
    "\n",
    "import os\n",
    "for dirname, _, filenames in os.walk('/Users/sarahhan/data_folder'):\n",
    "    for filename in filenames:\n",
    "        print(os.path.join(dirname, filename))\n",
    "\n",
    "# You can write up to 20GB to the current directory (/kaggle/working/) that gets preserved as output when you create a version using \"Save & Run All\" \n",
    "# You can also write temporary files to /kaggle/temp/, but they won't be saved outside of the current session\n",
    "\n",
    "import matplotlib.pyplot as plt\n",
    "from sklearn.preprocessing import LabelEncoder\n",
    "from sklearn.model_selection import train_test_split\n",
    "\n",
    "import tensorflow as tf\n",
    "from tensorflow import keras\n",
    "from keras.models import Model\n",
    "from keras.layers import Input, Reshape, Dot\n",
    "from keras.layers.embeddings import Embedding\n",
    "from keras.layers import Concatenate, Dense, Dropout\n",
    "from keras.optimizers import adam_v2\n",
    "from keras.regularizers import l2"
   ]
  },
  {
   "cell_type": "code",
   "execution_count": null,
   "id": "4bafd8d5",
   "metadata": {},
   "outputs": [],
   "source": [
    "if not os.path.isfile('data.csv'):\n",
    "    data = open('data.csv', mode='w')\n",
    "    \n",
    "    row = list()\n",
    "    files=['/Users/sarahhan/data_folder/netflix-prize-data/combined_data_1.txt','/Users/sarahhan/data_folder/netflix-prize-data/combined_data_2.txt', \n",
    "           '/Users/sarahhan/data_folder/netflix-prize-data/combined_data_3.txt', '/Users/sarahhan/data_folder/netflix-prize-data/combined_data_4.txt']\n",
    "    for file in files:\n",
    "        print(\"Reading ratings from {}...\".format(file))\n",
    "        with open(file) as f:\n",
    "            for line in f: \n",
    "                del row[:]\n",
    "                line = line.strip()\n",
    "                if line.endswith(':'):\n",
    "                    movie_id = line.replace(':', '')\n",
    "                else:\n",
    "                    row = [x for x in line.split(',')]\n",
    "                    row.insert(0, movie_id)\n",
    "                    data.write(','.join(row))\n",
    "                    data.write('\\n')\n",
    "    data.close()"
   ]
  },
  {
   "cell_type": "code",
   "execution_count": null,
   "id": "a5659c07",
   "metadata": {},
   "outputs": [],
   "source": [
    "small_df = pd.DataFrame()\n",
    "\n",
    "group = df.groupby('user_id')['rating'].count()\n",
    "top_users = group.sort_values(ascending=False)[:10000]\n",
    "\n",
    "group = df.groupby('movie_id')['rating'].count()\n",
    "top_movies = group.sort_values(ascending=False)[:2000]\n",
    "\n",
    "small_df = df.join(top_users, rsuffix='_r', how='inner', on='user_id')\n",
    "small_df = small_df.join(top_movies, rsuffix='_r', how='inner', on='movie_id')\n",
    "\n",
    "user_enc = LabelEncoder()\n",
    "small_df['user'] = user_enc.fit_transform(small_df['user_id'].values)\n",
    "movie_enc = LabelEncoder()\n",
    "small_df['movie'] = movie_enc.fit_transform(small_df['movie_id'].values)\n",
    "\n",
    "n_movies = small_df['movie'].nunique()\n",
    "n_users = small_df['user'].nunique()\n",
    "\n",
    "# print(n_movies, n_users)\n",
    "small_df"
   ]
  },
  {
   "cell_type": "code",
   "execution_count": null,
   "id": "2cb74148",
   "metadata": {},
   "outputs": [],
   "source": [
    "X = small_df[['user', 'movie']].values\n",
    "y = small_df['rating'].values"
   ]
  }
 ],
 "metadata": {
  "kernelspec": {
   "display_name": "Python 3 (ipykernel)",
   "language": "python",
   "name": "python3"
  },
  "language_info": {
   "codemirror_mode": {
    "name": "ipython",
    "version": 3
   },
   "file_extension": ".py",
   "mimetype": "text/x-python",
   "name": "python",
   "nbconvert_exporter": "python",
   "pygments_lexer": "ipython3",
   "version": "3.9.7"
  }
 },
 "nbformat": 4,
 "nbformat_minor": 5
}
