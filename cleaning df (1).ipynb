{
 "cells": [
  {
   "cell_type": "code",
   "execution_count": 1,
   "id": "68efff48",
   "metadata": {},
   "outputs": [],
   "source": [
    "import numpy as np\n",
    "import pandas as pd\n",
    "\n",
    "import os\n",
    "for dirname, _, filenames in os.walk('/Users/sarahhan/data_folder'):\n",
    "    for filename in filenames:\n",
    "        print(os.path.join(dirname, filename))\n",
    "\n",
    "# You can write up to 20GB to the current directory (/kaggle/working/) that gets preserved as output when you create a version using \"Save & Run All\" \n",
    "# You can also write temporary files to /kaggle/temp/, but they won't be saved outside of the current session\n",
    "\n",
    "import matplotlib.pyplot as plt\n",
    "from sklearn.preprocessing import LabelEncoder\n",
    "from sklearn.model_selection import train_test_split\n",
    "\n",
    "import tensorflow as tf\n",
    "from tensorflow import keras\n",
    "from keras.models import Model\n",
    "from keras.layers import Input, Reshape, Dot\n",
    "from keras.layers.embeddings import Embedding\n",
    "from keras.layers import Concatenate, Dense, Dropout\n",
    "from keras.optimizers import adam_v2\n",
    "from keras.regularizers import l2"
   ]
  },
  {
   "cell_type": "code",
   "execution_count": null,
   "id": "a6a4e766",
   "metadata": {},
   "outputs": [],
   "source": [
    "if not os.path.isfile('data.csv'):\n",
    "    data = open('data.csv', mode='w')\n",
    "\n",
    "files = ['/Users/sarahhan/data_folder/netflix-prize-data/combined_data_1.txt',\n",
    "         '/Users/sarahhan/data_folder/netflix-prize-data/combined_data_2.txt',\n",
    "         '/Users/sarahhan/data_folder/netflix-prize-data/combined_data_3.txt',\n",
    "         '/Users/sarahhan/data_folder/netflix-prize-data/combined_data_4.txt']\n",
    "\n",
    "# Remove the line with movie_id: and add a new column of movie_id\n",
    "# Combine all data files into a csv file\n",
    "for file in files:\n",
    "  print(\"Opening file: {}\".format(file))\n",
    "  with open(file) as f:\n",
    "    for line in f:\n",
    "        line = line.strip()\n",
    "        if line.endswith(':'):\n",
    "            movie_id = line.replace(':', '')\n",
    "        else:\n",
    "            data.write(movie_id + ',' + line)\n",
    "            data.write('\\n')\n",
    "data.close()\n",
    "\n",
    "# Read all data into a pd dataframe\n",
    "df = pd.read_csv('data.csv', names=['movie_id', 'user_id','rating','date'])\n",
    "\n",
    "df"
   ]
  },
  {
   "cell_type": "code",
   "execution_count": null,
   "id": "0a2bacf7",
   "metadata": {},
   "outputs": [],
   "source": [
    "small_df = pd.DataFrame()\n",
    "\n",
    "group = df.groupby('user_id')['rating'].count()\n",
    "top_users = group.sort_values(ascending=False)[:10000]\n",
    "\n",
    "group = df.groupby('movie_id')['rating'].count()\n",
    "top_movies = group.sort_values(ascending=False)[:2000]\n",
    "\n",
    "small_df = df.join(top_users, rsuffix='_r', how='inner', on='user_id')\n",
    "small_df = small_df.join(top_movies, rsuffix='_r', how='inner', on='movie_id')\n",
    "\n",
    "user_enc = LabelEncoder()\n",
    "small_df['user'] = user_enc.fit_transform(small_df['user_id'].values)\n",
    "movie_enc = LabelEncoder()\n",
    "small_df['movie'] = movie_enc.fit_transform(small_df['movie_id'].values)\n",
    "\n",
    "n_movies = small_df['movie'].nunique()\n",
    "n_users = small_df['user'].nunique()\n",
    "\n",
    "# print(n_movies, n_users)\n",
    "small_df"
   ]
  },
  {
   "cell_type": "code",
   "execution_count": null,
   "id": "f4f93d5f",
   "metadata": {},
   "outputs": [],
   "source": [
    "X = small_df[['user', 'movie']].values\n",
    "y = small_df['rating'].values"
   ]
  }
 ],
 "metadata": {
  "kernelspec": {
   "display_name": "Python 3 (ipykernel)",
   "language": "python",
   "name": "python3"
  },
  "language_info": {
   "codemirror_mode": {
    "name": "ipython",
    "version": 3
   },
   "file_extension": ".py",
   "mimetype": "text/x-python",
   "name": "python",
   "nbconvert_exporter": "python",
   "pygments_lexer": "ipython3",
   "version": "3.9.7"
  }
 },
 "nbformat": 4,
 "nbformat_minor": 5
}
